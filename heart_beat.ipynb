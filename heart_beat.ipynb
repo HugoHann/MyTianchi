{
 "cells": [
  {
   "cell_type": "code",
   "execution_count": 1,
   "metadata": {},
   "outputs": [
    {
     "name": "stderr",
     "output_type": "stream",
     "text": [
      "Using TensorFlow backend.\n"
     ]
    }
   ],
   "source": [
    "import pandas as pd\n",
    "import numpy as np\n",
    "from sklearn.model_selection import train_test_split\n",
    "from tensorflow.keras import layers,activations\n",
    "import os\n",
    "os.environ['CUDA_VISIBLE_DEVICES'] = '0'\n",
    "from tensorflow.compat.v1 import ConfigProto\n",
    "from tensorflow.compat.v1 import InteractiveSession\n",
    "\n",
    "config = ConfigProto()\n",
    "config.gpu_options.allow_growth = True\n",
    "session = InteractiveSession(config=config)\n",
    "\n",
    "\n",
    "import tensorflow as tf\n",
    "from keras.utils import np_utils\n"
   ]
  },
  {
   "cell_type": "code",
   "execution_count": 2,
   "metadata": {},
   "outputs": [],
   "source": [
    "# 压缩函数\n",
    "def reduce_mem_usage(df):\n",
    "    start_mem = df.memory_usage().sum() / 1024**2 \n",
    "    print('Memory usage of dataframe is {:.2f} MB'.format(start_mem))\n",
    "    \n",
    "    for col in tqdm(df.columns):\n",
    "        col_type = df[col].dtype\n",
    "        \n",
    "        if col_type != object:\n",
    "            c_min = df[col].min()\n",
    "            c_max = df[col].max()\n",
    "            if str(col_type)[:3] == 'int':\n",
    "                if c_min > np.iinfo(np.int8).min and c_max < np.iinfo(np.int8).max:\n",
    "                    df[col] = df[col].astype(np.int8)\n",
    "                elif c_min > np.iinfo(np.int16).min and c_max < np.iinfo(np.int16).max:\n",
    "                    df[col] = df[col].astype(np.int16)\n",
    "                elif c_min > np.iinfo(np.int32).min and c_max < np.iinfo(np.int32).max:\n",
    "                    df[col] = df[col].astype(np.int32)\n",
    "                elif c_min > np.iinfo(np.int64).min and c_max < np.iinfo(np.int64).max:\n",
    "                    df[col] = df[col].astype(np.int64)  \n",
    "            else:\n",
    "                if c_min > np.finfo(np.float16).min and c_max < np.finfo(np.float16).max:\n",
    "                    df[col] = df[col].astype(np.float16)\n",
    "                elif c_min > np.finfo(np.float32).min and c_max < np.finfo(np.float32).max:\n",
    "                    df[col] = df[col].astype(np.float32)\n",
    "                else:\n",
    "                    df[col] = df[col].astype(np.float64)\n",
    "        else:\n",
    "            df[col] = df[col].astype('category')\n",
    "\n",
    "    end_mem = df.memory_usage().sum() / 1024**2 \n",
    "    print('Memory usage after optimization is: {:.2f} MB'.format(end_mem))\n",
    "    print('Decreased by {:.1f}%'.format(100 * (start_mem - end_mem) / start_mem))\n",
    "    \n",
    "    return df"
   ]
  },
  {
   "cell_type": "code",
   "execution_count": 2,
   "metadata": {},
   "outputs": [],
   "source": [
    "#数据读取\n",
    "train_data = pd.read_csv(r'/mnt/ML/train.csv')\n",
    "test_data = pd.read_csv(r'/mnt/ML/testA.csv')"
   ]
  },
  {
   "cell_type": "code",
   "execution_count": 4,
   "metadata": {},
   "outputs": [
    {
     "data": {
      "text/html": [
       "<div>\n",
       "<style scoped>\n",
       "    .dataframe tbody tr th:only-of-type {\n",
       "        vertical-align: middle;\n",
       "    }\n",
       "\n",
       "    .dataframe tbody tr th {\n",
       "        vertical-align: top;\n",
       "    }\n",
       "\n",
       "    .dataframe thead th {\n",
       "        text-align: right;\n",
       "    }\n",
       "</style>\n",
       "<table border=\"1\" class=\"dataframe\">\n",
       "  <thead>\n",
       "    <tr style=\"text-align: right;\">\n",
       "      <th></th>\n",
       "      <th>id</th>\n",
       "      <th>heartbeat_signals</th>\n",
       "      <th>label</th>\n",
       "    </tr>\n",
       "  </thead>\n",
       "  <tbody>\n",
       "    <tr>\n",
       "      <th>0</th>\n",
       "      <td>0</td>\n",
       "      <td>0.9912297987616655,0.9435330436439665,0.764677...</td>\n",
       "      <td>0.0</td>\n",
       "    </tr>\n",
       "    <tr>\n",
       "      <th>1</th>\n",
       "      <td>1</td>\n",
       "      <td>0.9714822034884503,0.9289687459588268,0.572932...</td>\n",
       "      <td>0.0</td>\n",
       "    </tr>\n",
       "    <tr>\n",
       "      <th>2</th>\n",
       "      <td>2</td>\n",
       "      <td>1.0,0.9591487564065292,0.7013782792997189,0.23...</td>\n",
       "      <td>2.0</td>\n",
       "    </tr>\n",
       "    <tr>\n",
       "      <th>3</th>\n",
       "      <td>3</td>\n",
       "      <td>0.9757952826275774,0.9340884687738161,0.659636...</td>\n",
       "      <td>0.0</td>\n",
       "    </tr>\n",
       "    <tr>\n",
       "      <th>4</th>\n",
       "      <td>4</td>\n",
       "      <td>0.0,0.055816398940721094,0.26129357194994196,0...</td>\n",
       "      <td>2.0</td>\n",
       "    </tr>\n",
       "    <tr>\n",
       "      <th>99995</th>\n",
       "      <td>99995</td>\n",
       "      <td>1.0,0.677705342021188,0.22239242747868546,0.25...</td>\n",
       "      <td>0.0</td>\n",
       "    </tr>\n",
       "    <tr>\n",
       "      <th>99996</th>\n",
       "      <td>99996</td>\n",
       "      <td>0.9268571578157265,0.9063471198026871,0.636993...</td>\n",
       "      <td>2.0</td>\n",
       "    </tr>\n",
       "    <tr>\n",
       "      <th>99997</th>\n",
       "      <td>99997</td>\n",
       "      <td>0.9258351628306013,0.5873839035878395,0.633226...</td>\n",
       "      <td>3.0</td>\n",
       "    </tr>\n",
       "    <tr>\n",
       "      <th>99998</th>\n",
       "      <td>99998</td>\n",
       "      <td>1.0,0.9947621698382489,0.8297017704865509,0.45...</td>\n",
       "      <td>2.0</td>\n",
       "    </tr>\n",
       "    <tr>\n",
       "      <th>99999</th>\n",
       "      <td>99999</td>\n",
       "      <td>0.9259994004527861,0.916476635326053,0.4042900...</td>\n",
       "      <td>0.0</td>\n",
       "    </tr>\n",
       "  </tbody>\n",
       "</table>\n",
       "</div>"
      ],
      "text/plain": [
       "          id                                  heartbeat_signals  label\n",
       "0          0  0.9912297987616655,0.9435330436439665,0.764677...    0.0\n",
       "1          1  0.9714822034884503,0.9289687459588268,0.572932...    0.0\n",
       "2          2  1.0,0.9591487564065292,0.7013782792997189,0.23...    2.0\n",
       "3          3  0.9757952826275774,0.9340884687738161,0.659636...    0.0\n",
       "4          4  0.0,0.055816398940721094,0.26129357194994196,0...    2.0\n",
       "99995  99995  1.0,0.677705342021188,0.22239242747868546,0.25...    0.0\n",
       "99996  99996  0.9268571578157265,0.9063471198026871,0.636993...    2.0\n",
       "99997  99997  0.9258351628306013,0.5873839035878395,0.633226...    3.0\n",
       "99998  99998  1.0,0.9947621698382489,0.8297017704865509,0.45...    2.0\n",
       "99999  99999  0.9259994004527861,0.916476635326053,0.4042900...    0.0"
      ]
     },
     "execution_count": 4,
     "metadata": {},
     "output_type": "execute_result"
    }
   ],
   "source": [
    "#EDA分析\n",
    "train_data.head().append(train_data.tail())"
   ]
  },
  {
   "cell_type": "code",
   "execution_count": 5,
   "metadata": {},
   "outputs": [
    {
     "data": {
      "text/plain": [
       "(100000, 3)"
      ]
     },
     "execution_count": 5,
     "metadata": {},
     "output_type": "execute_result"
    }
   ],
   "source": [
    "train_data.shape"
   ]
  },
  {
   "cell_type": "code",
   "execution_count": 6,
   "metadata": {},
   "outputs": [
    {
     "data": {
      "text/html": [
       "<div>\n",
       "<style scoped>\n",
       "    .dataframe tbody tr th:only-of-type {\n",
       "        vertical-align: middle;\n",
       "    }\n",
       "\n",
       "    .dataframe tbody tr th {\n",
       "        vertical-align: top;\n",
       "    }\n",
       "\n",
       "    .dataframe thead th {\n",
       "        text-align: right;\n",
       "    }\n",
       "</style>\n",
       "<table border=\"1\" class=\"dataframe\">\n",
       "  <thead>\n",
       "    <tr style=\"text-align: right;\">\n",
       "      <th></th>\n",
       "      <th>id</th>\n",
       "      <th>heartbeat_signals</th>\n",
       "    </tr>\n",
       "  </thead>\n",
       "  <tbody>\n",
       "    <tr>\n",
       "      <th>0</th>\n",
       "      <td>100000</td>\n",
       "      <td>0.9915713654170097,1.0,0.6318163407681274,0.13...</td>\n",
       "    </tr>\n",
       "    <tr>\n",
       "      <th>1</th>\n",
       "      <td>100001</td>\n",
       "      <td>0.6075533139615096,0.5417083883163654,0.340694...</td>\n",
       "    </tr>\n",
       "    <tr>\n",
       "      <th>2</th>\n",
       "      <td>100002</td>\n",
       "      <td>0.9752726292239277,0.6710965234906665,0.686758...</td>\n",
       "    </tr>\n",
       "    <tr>\n",
       "      <th>3</th>\n",
       "      <td>100003</td>\n",
       "      <td>0.9956348033996116,0.9170249621481004,0.521096...</td>\n",
       "    </tr>\n",
       "    <tr>\n",
       "      <th>4</th>\n",
       "      <td>100004</td>\n",
       "      <td>1.0,0.8879490481178918,0.745564725322326,0.531...</td>\n",
       "    </tr>\n",
       "    <tr>\n",
       "      <th>19995</th>\n",
       "      <td>119995</td>\n",
       "      <td>1.0,0.8330283177934747,0.6340472606311671,0.63...</td>\n",
       "    </tr>\n",
       "    <tr>\n",
       "      <th>19996</th>\n",
       "      <td>119996</td>\n",
       "      <td>1.0,0.8259705825857048,0.4521053488322387,0.08...</td>\n",
       "    </tr>\n",
       "    <tr>\n",
       "      <th>19997</th>\n",
       "      <td>119997</td>\n",
       "      <td>0.951744840752379,0.9162611283848351,0.6675251...</td>\n",
       "    </tr>\n",
       "    <tr>\n",
       "      <th>19998</th>\n",
       "      <td>119998</td>\n",
       "      <td>0.9276692903808186,0.6771898159607004,0.242906...</td>\n",
       "    </tr>\n",
       "    <tr>\n",
       "      <th>19999</th>\n",
       "      <td>119999</td>\n",
       "      <td>0.6653212231837624,0.527064114047737,0.5166625...</td>\n",
       "    </tr>\n",
       "  </tbody>\n",
       "</table>\n",
       "</div>"
      ],
      "text/plain": [
       "           id                                  heartbeat_signals\n",
       "0      100000  0.9915713654170097,1.0,0.6318163407681274,0.13...\n",
       "1      100001  0.6075533139615096,0.5417083883163654,0.340694...\n",
       "2      100002  0.9752726292239277,0.6710965234906665,0.686758...\n",
       "3      100003  0.9956348033996116,0.9170249621481004,0.521096...\n",
       "4      100004  1.0,0.8879490481178918,0.745564725322326,0.531...\n",
       "19995  119995  1.0,0.8330283177934747,0.6340472606311671,0.63...\n",
       "19996  119996  1.0,0.8259705825857048,0.4521053488322387,0.08...\n",
       "19997  119997  0.951744840752379,0.9162611283848351,0.6675251...\n",
       "19998  119998  0.9276692903808186,0.6771898159607004,0.242906...\n",
       "19999  119999  0.6653212231837624,0.527064114047737,0.5166625..."
      ]
     },
     "execution_count": 6,
     "metadata": {},
     "output_type": "execute_result"
    }
   ],
   "source": [
    "test_data.head().append(test_data.tail())"
   ]
  },
  {
   "cell_type": "code",
   "execution_count": 7,
   "metadata": {},
   "outputs": [
    {
     "data": {
      "text/plain": [
       "(20000, 2)"
      ]
     },
     "execution_count": 7,
     "metadata": {},
     "output_type": "execute_result"
    }
   ],
   "source": [
    "test_data.shape"
   ]
  },
  {
   "cell_type": "code",
   "execution_count": 8,
   "metadata": {},
   "outputs": [
    {
     "data": {
      "text/html": [
       "<div>\n",
       "<style scoped>\n",
       "    .dataframe tbody tr th:only-of-type {\n",
       "        vertical-align: middle;\n",
       "    }\n",
       "\n",
       "    .dataframe tbody tr th {\n",
       "        vertical-align: top;\n",
       "    }\n",
       "\n",
       "    .dataframe thead th {\n",
       "        text-align: right;\n",
       "    }\n",
       "</style>\n",
       "<table border=\"1\" class=\"dataframe\">\n",
       "  <thead>\n",
       "    <tr style=\"text-align: right;\">\n",
       "      <th></th>\n",
       "      <th>id</th>\n",
       "      <th>label</th>\n",
       "    </tr>\n",
       "  </thead>\n",
       "  <tbody>\n",
       "    <tr>\n",
       "      <th>count</th>\n",
       "      <td>100000.000000</td>\n",
       "      <td>100000.000000</td>\n",
       "    </tr>\n",
       "    <tr>\n",
       "      <th>mean</th>\n",
       "      <td>49999.500000</td>\n",
       "      <td>0.856960</td>\n",
       "    </tr>\n",
       "    <tr>\n",
       "      <th>std</th>\n",
       "      <td>28867.657797</td>\n",
       "      <td>1.217084</td>\n",
       "    </tr>\n",
       "    <tr>\n",
       "      <th>min</th>\n",
       "      <td>0.000000</td>\n",
       "      <td>0.000000</td>\n",
       "    </tr>\n",
       "    <tr>\n",
       "      <th>25%</th>\n",
       "      <td>24999.750000</td>\n",
       "      <td>0.000000</td>\n",
       "    </tr>\n",
       "    <tr>\n",
       "      <th>50%</th>\n",
       "      <td>49999.500000</td>\n",
       "      <td>0.000000</td>\n",
       "    </tr>\n",
       "    <tr>\n",
       "      <th>75%</th>\n",
       "      <td>74999.250000</td>\n",
       "      <td>2.000000</td>\n",
       "    </tr>\n",
       "    <tr>\n",
       "      <th>max</th>\n",
       "      <td>99999.000000</td>\n",
       "      <td>3.000000</td>\n",
       "    </tr>\n",
       "  </tbody>\n",
       "</table>\n",
       "</div>"
      ],
      "text/plain": [
       "                  id          label\n",
       "count  100000.000000  100000.000000\n",
       "mean    49999.500000       0.856960\n",
       "std     28867.657797       1.217084\n",
       "min         0.000000       0.000000\n",
       "25%     24999.750000       0.000000\n",
       "50%     49999.500000       0.000000\n",
       "75%     74999.250000       2.000000\n",
       "max     99999.000000       3.000000"
      ]
     },
     "execution_count": 8,
     "metadata": {},
     "output_type": "execute_result"
    }
   ],
   "source": [
    "train_data.describe()"
   ]
  },
  {
   "cell_type": "code",
   "execution_count": 9,
   "metadata": {},
   "outputs": [
    {
     "name": "stdout",
     "output_type": "stream",
     "text": [
      "<class 'pandas.core.frame.DataFrame'>\n",
      "RangeIndex: 100000 entries, 0 to 99999\n",
      "Data columns (total 3 columns):\n",
      "id                   100000 non-null int64\n",
      "heartbeat_signals    100000 non-null object\n",
      "label                100000 non-null float64\n",
      "dtypes: float64(1), int64(1), object(1)\n",
      "memory usage: 2.3+ MB\n"
     ]
    }
   ],
   "source": [
    "train_data.info()"
   ]
  },
  {
   "cell_type": "code",
   "execution_count": 10,
   "metadata": {},
   "outputs": [
    {
     "data": {
      "text/html": [
       "<div>\n",
       "<style scoped>\n",
       "    .dataframe tbody tr th:only-of-type {\n",
       "        vertical-align: middle;\n",
       "    }\n",
       "\n",
       "    .dataframe tbody tr th {\n",
       "        vertical-align: top;\n",
       "    }\n",
       "\n",
       "    .dataframe thead th {\n",
       "        text-align: right;\n",
       "    }\n",
       "</style>\n",
       "<table border=\"1\" class=\"dataframe\">\n",
       "  <thead>\n",
       "    <tr style=\"text-align: right;\">\n",
       "      <th></th>\n",
       "      <th>id</th>\n",
       "    </tr>\n",
       "  </thead>\n",
       "  <tbody>\n",
       "    <tr>\n",
       "      <th>count</th>\n",
       "      <td>20000.000000</td>\n",
       "    </tr>\n",
       "    <tr>\n",
       "      <th>mean</th>\n",
       "      <td>109999.500000</td>\n",
       "    </tr>\n",
       "    <tr>\n",
       "      <th>std</th>\n",
       "      <td>5773.647028</td>\n",
       "    </tr>\n",
       "    <tr>\n",
       "      <th>min</th>\n",
       "      <td>100000.000000</td>\n",
       "    </tr>\n",
       "    <tr>\n",
       "      <th>25%</th>\n",
       "      <td>104999.750000</td>\n",
       "    </tr>\n",
       "    <tr>\n",
       "      <th>50%</th>\n",
       "      <td>109999.500000</td>\n",
       "    </tr>\n",
       "    <tr>\n",
       "      <th>75%</th>\n",
       "      <td>114999.250000</td>\n",
       "    </tr>\n",
       "    <tr>\n",
       "      <th>max</th>\n",
       "      <td>119999.000000</td>\n",
       "    </tr>\n",
       "  </tbody>\n",
       "</table>\n",
       "</div>"
      ],
      "text/plain": [
       "                  id\n",
       "count   20000.000000\n",
       "mean   109999.500000\n",
       "std      5773.647028\n",
       "min    100000.000000\n",
       "25%    104999.750000\n",
       "50%    109999.500000\n",
       "75%    114999.250000\n",
       "max    119999.000000"
      ]
     },
     "execution_count": 10,
     "metadata": {},
     "output_type": "execute_result"
    }
   ],
   "source": [
    "test_data.describe()"
   ]
  },
  {
   "cell_type": "code",
   "execution_count": 11,
   "metadata": {},
   "outputs": [
    {
     "name": "stdout",
     "output_type": "stream",
     "text": [
      "<class 'pandas.core.frame.DataFrame'>\n",
      "RangeIndex: 20000 entries, 0 to 19999\n",
      "Data columns (total 2 columns):\n",
      "id                   20000 non-null int64\n",
      "heartbeat_signals    20000 non-null object\n",
      "dtypes: int64(1), object(1)\n",
      "memory usage: 312.6+ KB\n"
     ]
    }
   ],
   "source": [
    "test_data.info()"
   ]
  },
  {
   "cell_type": "code",
   "execution_count": 12,
   "metadata": {},
   "outputs": [
    {
     "name": "stdout",
     "output_type": "stream",
     "text": [
      "id                   0\n",
      "heartbeat_signals    0\n",
      "label                0\n",
      "dtype: int64\n",
      "id                   0\n",
      "heartbeat_signals    0\n",
      "dtype: int64\n"
     ]
    }
   ],
   "source": [
    "print(train_data.isnull().sum())\n",
    "print(test_data.isnull().sum())"
   ]
  },
  {
   "cell_type": "code",
   "execution_count": 13,
   "metadata": {},
   "outputs": [
    {
     "data": {
      "text/plain": [
       "0.0    64327\n",
       "3.0    17912\n",
       "2.0    14199\n",
       "1.0     3562\n",
       "Name: label, dtype: int64"
      ]
     },
     "execution_count": 13,
     "metadata": {},
     "output_type": "execute_result"
    }
   ],
   "source": [
    "train_data['label'].value_counts()"
   ]
  },
  {
   "cell_type": "code",
   "execution_count": 16,
   "metadata": {},
   "outputs": [
    {
     "data": {
      "text/plain": [
       "<matplotlib.axes._subplots.AxesSubplot at 0x7fbcc0c2a9d0>"
      ]
     },
     "execution_count": 16,
     "metadata": {},
     "output_type": "execute_result"
    },
    {
     "data": {
      "image/png": "[encoded data removed]",
      "text/plain": [
       "<Figure size 432x288 with 1 Axes>"
      ]
     },
     "metadata": {
      "needs_background": "light"
     },
     "output_type": "display_data"
    },
    {
     "data": {
      "image/png": "[encoded data removed]",
      "text/plain": [
       "<Figure size 432x288 with 1 Axes>"
      ]
     },
     "metadata": {
      "needs_background": "light"
     },
     "output_type": "display_data"
    },
    {
     "data": {
      "image/png": "[encoded data removed]",
      "text/plain": [
       "<Figure size 432x288 with 1 Axes>"
      ]
     },
     "metadata": {
      "needs_background": "light"
     },
     "output_type": "display_data"
    }
   ],
   "source": [
    "## 1) 总体分布概况（无界约翰逊分布等）\n",
    "import scipy.stats as st\n",
    "import matplotlib.pyplot as plt\n",
    "import seaborn as sns\n",
    "\n",
    "y = train_data['label']\n",
    "plt.figure(1); plt.title('Default')\n",
    "sns.distplot(y, rug=True, bins=20)\n",
    "plt.figure(2); plt.title('Normal')\n",
    "sns.distplot(y, kde=False, fit=st.norm)\n",
    "plt.figure(3); plt.title('Log Normal')\n",
    "sns.distplot(y, kde=False, fit=st.lognorm)"
   ]
  },
  {
   "cell_type": "code",
   "execution_count": 17,
   "metadata": {},
   "outputs": [
    {
     "name": "stdout",
     "output_type": "stream",
     "text": [
      "Skewness: 0.871005\n",
      "Kurtosis: -1.009573\n"
     ]
    },
    {
     "data": {
      "image/png": "[encoded data removed]",
      "text/plain": [
       "<Figure size 432x288 with 1 Axes>"
      ]
     },
     "metadata": {
      "needs_background": "light"
     },
     "output_type": "display_data"
    }
   ],
   "source": [
    "\n",
    "# 2）查看skewness and kurtosis\n",
    "sns.distplot(train_data['label']);\n",
    "print(\"Skewness: %f\" % train_data['label'].skew())\n",
    "print(\"Kurtosis: %f\" % train_data['label'].kurt())"
   ]
  },
  {
   "cell_type": "code",
   "execution_count": 18,
   "metadata": {},
   "outputs": [
    {
     "data": {
      "text/plain": [
       "(id       0.000000\n",
       " label    0.871005\n",
       " dtype: float64,\n",
       " id      -1.200000\n",
       " label   -1.009573\n",
       " dtype: float64)"
      ]
     },
     "execution_count": 18,
     "metadata": {},
     "output_type": "execute_result"
    }
   ],
   "source": [
    "train_data.skew(), train_data.kurt()"
   ]
  },
  {
   "cell_type": "code",
   "execution_count": 19,
   "metadata": {},
   "outputs": [
    {
     "data": {
      "text/plain": [
       "<matplotlib.axes._subplots.AxesSubplot at 0x7fbcc095c5d0>"
      ]
     },
     "execution_count": 19,
     "metadata": {},
     "output_type": "execute_result"
    },
    {
     "data": {
      "image/png": "[encoded data removed]",
      "text/plain": [
       "<Figure size 432x288 with 1 Axes>"
      ]
     },
     "metadata": {
      "needs_background": "light"
     },
     "output_type": "display_data"
    }
   ],
   "source": [
    "sns.distplot(train_data.kurt(),color='orange',axlabel ='Kurtness')"
   ]
  },
  {
   "cell_type": "code",
   "execution_count": 21,
   "metadata": {},
   "outputs": [
    {
     "data": {
      "text/plain": [
       "113957"
      ]
     },
     "execution_count": 21,
     "metadata": {},
     "output_type": "execute_result"
    }
   ],
   "source": [
    "# 回收垃圾\n",
    "import gc\n",
    "\n",
    "gc.collect()"
   ]
  },
  {
   "cell_type": "code",
   "execution_count": 3,
   "metadata": {},
   "outputs": [],
   "source": [
    "#模型搭建\n",
    "#数据预处理\n",
    "train_get_feature = [k.split(',') for k in train_data.heartbeat_signals]\n",
    "test_get_feature = [k.split(',') for k in test_data.heartbeat_signals]\n",
    "\n",
    "train_feature = pd.DataFrame(train_get_feature)\n",
    "train_feature = train_feature.astype(float)\n",
    "\n",
    "test_feature = pd.DataFrame(test_get_feature)\n",
    "test_feature = test_feature.astype(float)\n"
   ]
  },
  {
   "cell_type": "code",
   "execution_count": 4,
   "metadata": {},
   "outputs": [],
   "source": [
    "X_train, X_validation, Y_train, Y_validation = train_test_split(train_feature, train_data.label, test_size=0.2,random_state=42)\n",
    "\n",
    "train_X = np.array(X_train)\n",
    "train_Y = np.array(Y_train)\n",
    "X_validation = np.array(X_validation)\n",
    "Y_validation = np.array(Y_validation)\n",
    "\n",
    "\n",
    "train_X = train_X.reshape(train_X.shape[0], train_X.shape[1], 1)\n",
    "X_validation = X_validation.reshape(X_validation.shape[0], X_validation.shape[1], 1)"
   ]
  },
  {
   "cell_type": "code",
   "execution_count": 28,
   "metadata": {},
   "outputs": [
    {
     "name": "stdout",
     "output_type": "stream",
     "text": [
      "80000\n",
      "20000\n"
     ]
    }
   ],
   "source": [
    "print(len(train_X))\n",
    "print(len(X_validation))"
   ]
  },
  {
   "cell_type": "code",
   "execution_count": 29,
   "metadata": {},
   "outputs": [
    {
     "name": "stdout",
     "output_type": "stream",
     "text": [
      "Model: \"sequential\"\n",
      "_________________________________________________________________\n",
      "Layer (type)                 Output Shape              Param #   \n",
      "=================================================================\n",
      "conv1d (Conv1D)              (None, 205, 64)           576       \n",
      "_________________________________________________________________\n",
      "batch_normalization (BatchNo (None, 205, 64)           256       \n",
      "_________________________________________________________________\n",
      "max_pooling1d (MaxPooling1D) (None, 103, 64)           0         \n",
      "_________________________________________________________________\n",
      "conv1d_1 (Conv1D)            (None, 103, 64)           32832     \n",
      "_________________________________________________________________\n",
      "batch_normalization_1 (Batch (None, 103, 64)           256       \n",
      "_________________________________________________________________\n",
      "max_pooling1d_1 (MaxPooling1 (None, 52, 64)            0         \n",
      "_________________________________________________________________\n",
      "conv1d_2 (Conv1D)            (None, 52, 128)           49280     \n",
      "_________________________________________________________________\n",
      "batch_normalization_2 (Batch (None, 52, 128)           512       \n",
      "_________________________________________________________________\n",
      "max_pooling1d_2 (MaxPooling1 (None, 26, 128)           0         \n",
      "_________________________________________________________________\n",
      "conv1d_3 (Conv1D)            (None, 26, 128)           65664     \n",
      "_________________________________________________________________\n",
      "batch_normalization_3 (Batch (None, 26, 128)           512       \n",
      "_________________________________________________________________\n",
      "max_pooling1d_3 (MaxPooling1 (None, 26, 128)           0         \n",
      "_________________________________________________________________\n",
      "conv1d_4 (Conv1D)            (None, 26, 256)           65792     \n",
      "_________________________________________________________________\n",
      "batch_normalization_4 (Batch (None, 26, 256)           1024      \n",
      "_________________________________________________________________\n",
      "max_pooling1d_4 (MaxPooling1 (None, 26, 256)           0         \n",
      "_________________________________________________________________\n",
      "conv1d_5 (Conv1D)            (None, 26, 512)           262656    \n",
      "_________________________________________________________________\n",
      "batch_normalization_5 (Batch (None, 26, 512)           2048      \n",
      "_________________________________________________________________\n",
      "max_pooling1d_5 (MaxPooling1 (None, 26, 512)           0         \n",
      "_________________________________________________________________\n",
      "global_average_pooling1d (Gl (None, 512)               0         \n",
      "_________________________________________________________________\n",
      "flatten (Flatten)            (None, 512)               0         \n",
      "_________________________________________________________________\n",
      "dense (Dense)                (None, 512)               262656    \n",
      "_________________________________________________________________\n",
      "dense_1 (Dense)              (None, 4)                 2052      \n",
      "=================================================================\n",
      "Total params: 746,116\n",
      "Trainable params: 743,812\n",
      "Non-trainable params: 2,304\n",
      "_________________________________________________________________\n",
      "Train on 80000 samples, validate on 20000 samples\n",
      "Epoch 1/64\n",
      "80000/80000 - 36s - loss: 0.1236 - accuracy: 0.9620 - val_loss: 0.0745 - val_accuracy: 0.9761\n",
      "Epoch 2/64\n",
      "80000/80000 - 31s - loss: 0.0618 - accuracy: 0.9799 - val_loss: 0.0677 - val_accuracy: 0.9797\n",
      "Epoch 3/64\n",
      "80000/80000 - 31s - loss: 0.0451 - accuracy: 0.9858 - val_loss: 0.0508 - val_accuracy: 0.9850\n",
      "Epoch 4/64\n",
      "80000/80000 - 31s - loss: 0.0374 - accuracy: 0.9875 - val_loss: 0.0483 - val_accuracy: 0.9833\n",
      "Epoch 5/64\n",
      "80000/80000 - 31s - loss: 0.0311 - accuracy: 0.9898 - val_loss: 0.0426 - val_accuracy: 0.9856\n",
      "Epoch 6/64\n",
      "80000/80000 - 31s - loss: 0.0264 - accuracy: 0.9914 - val_loss: 0.0315 - val_accuracy: 0.9897\n",
      "Epoch 7/64\n",
      "80000/80000 - 31s - loss: 0.0216 - accuracy: 0.9925 - val_loss: 0.0547 - val_accuracy: 0.9833\n",
      "Epoch 8/64\n",
      "80000/80000 - 31s - loss: 0.0192 - accuracy: 0.9934 - val_loss: 0.0300 - val_accuracy: 0.9905\n",
      "Epoch 9/64\n",
      "80000/80000 - 31s - loss: 0.0168 - accuracy: 0.9943 - val_loss: 0.0301 - val_accuracy: 0.9902\n",
      "Epoch 10/64\n",
      "80000/80000 - 31s - loss: 0.0146 - accuracy: 0.9953 - val_loss: 0.0235 - val_accuracy: 0.9924\n",
      "Epoch 11/64\n",
      "80000/80000 - 31s - loss: 0.0127 - accuracy: 0.9956 - val_loss: 0.0337 - val_accuracy: 0.9894\n",
      "Epoch 12/64\n",
      "80000/80000 - 31s - loss: 0.0111 - accuracy: 0.9962 - val_loss: 0.0291 - val_accuracy: 0.9916\n",
      "Epoch 13/64\n",
      "80000/80000 - 31s - loss: 0.0092 - accuracy: 0.9969 - val_loss: 0.0285 - val_accuracy: 0.9919\n",
      "Epoch 14/64\n",
      "80000/80000 - 31s - loss: 0.0089 - accuracy: 0.9971 - val_loss: 0.0266 - val_accuracy: 0.9924\n",
      "Epoch 15/64\n",
      "80000/80000 - 31s - loss: 0.0079 - accuracy: 0.9974 - val_loss: 0.0237 - val_accuracy: 0.9935\n",
      "Epoch 16/64\n",
      "80000/80000 - 31s - loss: 0.0070 - accuracy: 0.9977 - val_loss: 0.0319 - val_accuracy: 0.9912\n",
      "Epoch 17/64\n",
      "80000/80000 - 31s - loss: 0.0059 - accuracy: 0.9981 - val_loss: 0.0264 - val_accuracy: 0.9932\n",
      "Epoch 18/64\n",
      "80000/80000 - 31s - loss: 0.0057 - accuracy: 0.9979 - val_loss: 0.0298 - val_accuracy: 0.9919\n",
      "Epoch 19/64\n",
      "80000/80000 - 31s - loss: 0.0060 - accuracy: 0.9980 - val_loss: 0.0270 - val_accuracy: 0.9923\n",
      "Epoch 20/64\n",
      "80000/80000 - 31s - loss: 0.0053 - accuracy: 0.9983 - val_loss: 0.0214 - val_accuracy: 0.9945\n",
      "Epoch 21/64\n",
      "80000/80000 - 31s - loss: 0.0036 - accuracy: 0.9989 - val_loss: 0.0249 - val_accuracy: 0.9936\n",
      "Epoch 22/64\n",
      "80000/80000 - 31s - loss: 0.0032 - accuracy: 0.9990 - val_loss: 0.0292 - val_accuracy: 0.9931\n",
      "Epoch 23/64\n",
      "80000/80000 - 31s - loss: 0.0014 - accuracy: 0.9997 - val_loss: 0.0230 - val_accuracy: 0.9944\n",
      "Epoch 24/64\n",
      "80000/80000 - 31s - loss: 0.0021 - accuracy: 0.9994 - val_loss: 0.0275 - val_accuracy: 0.9930\n",
      "Epoch 25/64\n",
      "80000/80000 - 31s - loss: 0.0046 - accuracy: 0.9986 - val_loss: 0.0285 - val_accuracy: 0.9929\n",
      "Epoch 26/64\n",
      "80000/80000 - 31s - loss: 0.0025 - accuracy: 0.9992 - val_loss: 0.0272 - val_accuracy: 0.9934\n",
      "Epoch 27/64\n",
      "80000/80000 - 31s - loss: 0.0021 - accuracy: 0.9994 - val_loss: 0.0268 - val_accuracy: 0.9923\n",
      "Epoch 28/64\n",
      "80000/80000 - 31s - loss: 0.0016 - accuracy: 0.9995 - val_loss: 0.0262 - val_accuracy: 0.9939\n",
      "Epoch 29/64\n",
      "80000/80000 - 31s - loss: 0.0010 - accuracy: 0.9997 - val_loss: 0.0245 - val_accuracy: 0.9941\n",
      "Epoch 30/64\n",
      "80000/80000 - 31s - loss: 0.0012 - accuracy: 0.9997 - val_loss: 0.0228 - val_accuracy: 0.9948\n",
      "Epoch 31/64\n",
      "80000/80000 - 31s - loss: 5.4871e-04 - accuracy: 0.9999 - val_loss: 0.0240 - val_accuracy: 0.9944\n",
      "Epoch 32/64\n",
      "80000/80000 - 31s - loss: 2.6792e-04 - accuracy: 1.0000 - val_loss: 0.0227 - val_accuracy: 0.9951\n",
      "Epoch 33/64\n",
      "80000/80000 - 31s - loss: 1.7597e-04 - accuracy: 1.0000 - val_loss: 0.0235 - val_accuracy: 0.9948\n",
      "Epoch 34/64\n",
      "80000/80000 - 31s - loss: 1.2808e-04 - accuracy: 1.0000 - val_loss: 0.0235 - val_accuracy: 0.9949\n",
      "Epoch 35/64\n",
      "80000/80000 - 31s - loss: 9.7242e-05 - accuracy: 1.0000 - val_loss: 0.0236 - val_accuracy: 0.9951\n",
      "Epoch 36/64\n",
      "80000/80000 - 31s - loss: 8.6942e-05 - accuracy: 1.0000 - val_loss: 0.0239 - val_accuracy: 0.9952\n",
      "Epoch 37/64\n",
      "80000/80000 - 31s - loss: 1.1528e-04 - accuracy: 1.0000 - val_loss: 0.0259 - val_accuracy: 0.9941\n",
      "Epoch 38/64\n",
      "80000/80000 - 31s - loss: 3.0014e-04 - accuracy: 0.9999 - val_loss: 0.0257 - val_accuracy: 0.9943\n",
      "Epoch 39/64\n",
      "80000/80000 - 31s - loss: 2.8070e-04 - accuracy: 1.0000 - val_loss: 0.0261 - val_accuracy: 0.9941\n",
      "Epoch 40/64\n",
      "80000/80000 - 31s - loss: 2.5712e-04 - accuracy: 1.0000 - val_loss: 0.0250 - val_accuracy: 0.9947\n",
      "Epoch 41/64\n",
      "80000/80000 - 31s - loss: 1.2901e-04 - accuracy: 1.0000 - val_loss: 0.0251 - val_accuracy: 0.9945\n",
      "Epoch 42/64\n",
      "80000/80000 - 31s - loss: 6.6769e-04 - accuracy: 0.9998 - val_loss: 0.0283 - val_accuracy: 0.9938\n",
      "Epoch 43/64\n",
      "80000/80000 - 31s - loss: 0.0015 - accuracy: 0.9996 - val_loss: 0.0331 - val_accuracy: 0.9923\n",
      "Epoch 44/64\n",
      "80000/80000 - 31s - loss: 0.0021 - accuracy: 0.9994 - val_loss: 0.0348 - val_accuracy: 0.9927\n",
      "Epoch 45/64\n",
      "80000/80000 - 31s - loss: 0.0027 - accuracy: 0.9993 - val_loss: 0.0388 - val_accuracy: 0.9919\n",
      "Epoch 46/64\n",
      "80000/80000 - 31s - loss: 0.0015 - accuracy: 0.9995 - val_loss: 0.0258 - val_accuracy: 0.9947\n",
      "Epoch 47/64\n",
      "80000/80000 - 31s - loss: 0.0012 - accuracy: 0.9996 - val_loss: 0.0332 - val_accuracy: 0.9919\n",
      "Epoch 48/64\n",
      "80000/80000 - 31s - loss: 8.3885e-04 - accuracy: 0.9998 - val_loss: 0.0259 - val_accuracy: 0.9947\n",
      "Epoch 49/64\n",
      "80000/80000 - 31s - loss: 0.0013 - accuracy: 0.9996 - val_loss: 0.0272 - val_accuracy: 0.9941\n",
      "Epoch 50/64\n",
      "80000/80000 - 31s - loss: 0.0023 - accuracy: 0.9993 - val_loss: 0.0323 - val_accuracy: 0.9930\n",
      "Epoch 51/64\n",
      "80000/80000 - 31s - loss: 0.0014 - accuracy: 0.9996 - val_loss: 0.0290 - val_accuracy: 0.9934\n",
      "Epoch 52/64\n",
      "80000/80000 - 31s - loss: 4.7561e-04 - accuracy: 0.9999 - val_loss: 0.0262 - val_accuracy: 0.9945\n",
      "Epoch 53/64\n",
      "80000/80000 - 31s - loss: 0.0013 - accuracy: 0.9997 - val_loss: 0.0315 - val_accuracy: 0.9941\n",
      "Epoch 54/64\n",
      "80000/80000 - 31s - loss: 4.0263e-04 - accuracy: 0.9999 - val_loss: 0.0269 - val_accuracy: 0.9946\n",
      "Epoch 55/64\n",
      "80000/80000 - 31s - loss: 1.7400e-04 - accuracy: 1.0000 - val_loss: 0.0267 - val_accuracy: 0.9948\n",
      "Epoch 56/64\n",
      "80000/80000 - 31s - loss: 9.0726e-05 - accuracy: 1.0000 - val_loss: 0.0266 - val_accuracy: 0.9948\n",
      "Epoch 57/64\n",
      "80000/80000 - 31s - loss: 1.5265e-04 - accuracy: 1.0000 - val_loss: 0.0285 - val_accuracy: 0.9946\n",
      "Epoch 58/64\n",
      "80000/80000 - 31s - loss: 8.4968e-05 - accuracy: 1.0000 - val_loss: 0.0276 - val_accuracy: 0.9948\n",
      "Epoch 59/64\n",
      "80000/80000 - 31s - loss: 2.5904e-04 - accuracy: 0.9999 - val_loss: 0.0316 - val_accuracy: 0.9931\n",
      "Epoch 60/64\n",
      "80000/80000 - 31s - loss: 8.4831e-05 - accuracy: 1.0000 - val_loss: 0.0274 - val_accuracy: 0.9946\n",
      "Epoch 61/64\n",
      "80000/80000 - 31s - loss: 4.7890e-05 - accuracy: 1.0000 - val_loss: 0.0266 - val_accuracy: 0.9947\n",
      "Epoch 62/64\n",
      "80000/80000 - 31s - loss: 5.1001e-05 - accuracy: 1.0000 - val_loss: 0.0269 - val_accuracy: 0.9951\n",
      "Epoch 63/64\n",
      "80000/80000 - 31s - loss: 4.0050e-05 - accuracy: 1.0000 - val_loss: 0.0268 - val_accuracy: 0.9952\n",
      "Epoch 64/64\n",
      "80000/80000 - 31s - loss: 3.4703e-05 - accuracy: 1.0000 - val_loss: 0.0276 - val_accuracy: 0.9951\n",
      "216.69395923614502\n"
     ]
    }
   ],
   "source": [
    "model = tf.keras.Sequential([\n",
    "    tf.keras.layers.Conv1D(filters=64, kernel_size=(8,), padding='same',\n",
    "                           activation=tf.keras.layers.LeakyReLU(alpha=0.001), input_shape=(train_X.shape[1], 1)),\n",
    "    tf.keras.layers.BatchNormalization(),\n",
    "    tf.keras.layers.MaxPool1D(pool_size=(4,), strides=2, padding='same'),\n",
    "\n",
    "    tf.keras.layers.Conv1D(filters=64, kernel_size=(8,), padding='same',\n",
    "                           activation=tf.keras.layers.LeakyReLU(alpha=0.001)),\n",
    "    tf.keras.layers.BatchNormalization(),\n",
    "    tf.keras.layers.MaxPool1D(pool_size=(4,), strides=2, padding='same'),\n",
    "    \n",
    "    tf.keras.layers.Conv1D(filters=128, kernel_size=(6,), padding='same',\n",
    "                           activation=tf.keras.layers.LeakyReLU(alpha=0.001)),\n",
    "    tf.keras.layers.BatchNormalization(),\n",
    "    tf.keras.layers.MaxPool1D(pool_size=(3,), strides=2, padding='same'),\n",
    "\n",
    "    tf.keras.layers.Conv1D(filters=128, kernel_size=(4,), padding='same',\n",
    "                           activation=tf.keras.layers.LeakyReLU(alpha=0.001)), \n",
    "    tf.keras.layers.BatchNormalization(),\n",
    "    tf.keras.layers.MaxPool1D(pool_size=(3,), strides=1, padding='same'),\n",
    "                           \n",
    "    tf.keras.layers.Conv1D(filters=256, kernel_size=(2,), padding='same',\n",
    "                           activation=tf.keras.layers.LeakyReLU(alpha=0.001)),\n",
    "    tf.keras.layers.BatchNormalization(),\n",
    "    tf.keras.layers.MaxPool1D(pool_size=(3,), strides=1, padding='same'),\n",
    "    \n",
    "    tf.keras.layers.Conv1D(filters=512, kernel_size=(2,), padding='same',\n",
    "                           activation=tf.keras.layers.LeakyReLU(alpha=0.001)),\n",
    "    tf.keras.layers.BatchNormalization(),\n",
    "    tf.keras.layers.MaxPool1D(pool_size=(2,), strides=1, padding='same'),\n",
    "    \n",
    "    tf.keras.layers.GlobalAveragePooling1D(),\n",
    "    tf.keras.layers.Flatten(),\n",
    "    tf.keras.layers.Dense(units=512, activation=tf.keras.layers.LeakyReLU(alpha=0.001)),\n",
    "    tf.keras.layers.Dense(units=4, activation='softmax')\n",
    "])\n",
    "\n",
    "\n",
    "model.summary()\n",
    "opt = tf.keras.optimizers.SGD(learning_rate=0.01, momentum=0.9, decay=1e-6, nesterov=False)\n",
    "model.compile(loss='sparse_categorical_crossentropy',\n",
    "              optimizer=opt,\n",
    "              metrics=['accuracy'])\n",
    "\n",
    "num_epochs = 64\n",
    "cnn=model.fit(train_X,\n",
    "          train_Y,\n",
    "          batch_size=64,\n",
    "          epochs=num_epochs,\n",
    "          validation_data=(X_validation,Y_validation),\n",
    "          verbose=2)\n",
    "\n",
    "\n",
    "def abs_sum(y_tru, y_pre):\n",
    "    y_tru = pd.get_dummies(data=y_tru)\n",
    "    y_pre = np.array(y_pre)\n",
    "    y_tru = np.array(y_tru)\n",
    "    loss = sum(sum(abs(y_pre - y_tru)))\n",
    "    return loss\n",
    "\n",
    "\n",
    "pre = model.predict(X_validation)\n",
    "print(abs_sum(Y_validation, pre))\n",
    "\n"
   ]
  },
  {
   "cell_type": "code",
   "execution_count": 30,
   "metadata": {},
   "outputs": [
    {
     "name": "stdout",
     "output_type": "stream",
     "text": [
      "198.0\n"
     ]
    }
   ],
   "source": [
    "pre2=pre.copy()\n",
    "for i in range(len(pre2)):\n",
    "    for j in range(len(pre2[0])):\n",
    "        pre2[i][j]=int(pre2[i][j]+0.5)\n",
    "#取整后结果\n",
    "print(abs_sum(Y_validation, pre2))"
   ]
  },
  {
   "cell_type": "code",
   "execution_count": 8,
   "metadata": {},
   "outputs": [],
   "source": [
    "#第二个模型：ResNet引入残差\n",
    "from tensorflow.keras import layers,activations\n",
    "class Residual(tf.keras.Model):\n",
    "    def __init__(self, num_channels,kernel_size, use_1x1conv=False, strides=1, **kwargs):\n",
    "        super(Residual, self).__init__(**kwargs)\n",
    "        self.conv1 = layers.Conv1D(num_channels,\n",
    "                                   padding='same',\n",
    "                                   kernel_size=kernel_size,\n",
    "                                   strides=strides)\n",
    "        self.conv2 = layers.Conv1D(num_channels, kernel_size=kernel_size,padding='same')\n",
    "        if use_1x1conv:\n",
    "            self.conv3 = layers.Conv1D(num_channels,\n",
    "                                       kernel_size=1,\n",
    "                                       strides=strides)\n",
    "        else:\n",
    "            self.conv3 = None\n",
    "        self.bn1 = layers.BatchNormalization()\n",
    "        self.bn2 = layers.BatchNormalization()\n",
    "\n",
    "    def call(self, X):\n",
    "        Y = activations.relu(self.bn1(self.conv1(X)))\n",
    "        Y = self.bn2(self.conv2(Y))\n",
    "        if self.conv3:\n",
    "            X = self.conv3(X)\n",
    "        return activations.relu(Y + X)\n",
    "\n",
    "\n",
    "class ResnetBlock(tf.keras.layers.Layer):\n",
    "    def __init__(self,num_channels,kernel_size, num_residuals, first_block=False,**kwargs):\n",
    "        super(ResnetBlock, self).__init__(**kwargs)\n",
    "        self.listLayers=[]\n",
    "        for i in range(num_residuals):\n",
    "            if i == 0 and not first_block:\n",
    "                self.listLayers.append(Residual(num_channels,kernel_size, use_1x1conv=True, strides=2))\n",
    "            else:\n",
    "                self.listLayers.append(Residual(num_channels,kernel_size))      \n",
    "\n",
    "    def call(self, X):\n",
    "        for layer in self.listLayers.layers:\n",
    "            X = layer(X)\n",
    "        return X\n",
    "\n",
    "\n",
    "class ResNet(tf.keras.Model):\n",
    "    def __init__(self,num_blocks,**kwargs):\n",
    "        super(ResNet, self).__init__(**kwargs)\n",
    "        self.conv=layers.Conv1D(64, kernel_size=5, padding='same')\n",
    "        self.bn=layers.BatchNormalization()\n",
    "        self.relu=layers.LeakyReLU(alpha=0.001)\n",
    "        self.mp=layers.MaxPool1D(pool_size=5, strides=2, padding='same')\n",
    "        self.resnet_block1=ResnetBlock(64,8,num_blocks[0], first_block=True)\n",
    "        self.resnet_block2=ResnetBlock(128,6,num_blocks[1])\n",
    "        self.resnet_block3=ResnetBlock(256,4,num_blocks[2])\n",
    "        self.resnet_block4=ResnetBlock(512,2,num_blocks[3])\n",
    "        self.gap=layers.GlobalAvgPool1D()\n",
    "        self.fc=layers.Dense(units=4,activation=activations.softmax)\n",
    "\n",
    "    def call(self, x):\n",
    "        x=self.conv(x)\n",
    "        x=self.bn(x)\n",
    "        x=self.relu(x)\n",
    "        x=self.mp(x)\n",
    "        x=self.resnet_block1(x)\n",
    "        x=self.resnet_block2(x)\n",
    "        x=self.resnet_block3(x)\n",
    "        x=self.resnet_block4(x)\n",
    "        x=self.gap(x)\n",
    "        x=self.fc(x)\n",
    "        return x\n",
    "class ResBlock(tf.keras.Model):\n",
    "    def __init__(self,num_blocks,**kwargs):\n",
    "        super(ResNet, self).__init__(**kwargs)\n",
    "        self.conv=layers.Conv1D(128, kernel_size=8, padding='same')\n",
    "        self.bn=layers.BatchNormalization()\n",
    "        self.relu=layers.LeakyReLU(alpha=0.001)\n",
    "        self.mp=layers.MaxPool1D(pool_size=5, strides=2, padding='same')\n",
    "        self.resnet_block1=ResnetBlock(128,8,num_blocks[0], first_block=True)\n",
    "        self.gap=layers.GlobalAvgPool1D()\n",
    "        self.fc=layers.Dense(units=4,activation=activations.softmax)\n",
    "\n",
    "    def call(self, x):\n",
    "        x=self.conv(x)\n",
    "        x=self.bn(x)\n",
    "        x=self.relu(x)\n",
    "        x=self.mp(x)\n",
    "        x=self.resnet_block1(x)\n",
    "        x=self.gap(x)\n",
    "        x=self.fc(x)\n",
    "        return x\n",
    "\n",
    "def build_resnet(keyword = 'resnet34'):\n",
    "    if keyword == 'resnet34':\n",
    "        return ResNet([3,4,6,3])\n",
    "    elif keyword == 'resnet18':\n",
    "        return ResNet([2,2,2,2])\n",
    "def build_resblock():\n",
    "    return ResBlock([1])\n",
    "\n"
   ]
  },
  {
   "cell_type": "code",
   "execution_count": null,
   "metadata": {},
   "outputs": [
    {
     "name": "stdout",
     "output_type": "stream",
     "text": [
      "Train on 80000 samples, validate on 20000 samples\n",
      "Epoch 1/60\n",
      "80000/80000 - 93s - loss: 0.1306 - accuracy: 0.9601 - val_loss: 0.0969 - val_accuracy: 0.9690\n",
      "Epoch 2/60\n",
      "80000/80000 - 82s - loss: 0.0553 - accuracy: 0.9827 - val_loss: 0.1396 - val_accuracy: 0.9531\n",
      "Epoch 3/60\n"
     ]
    }
   ],
   "source": [
    "\n",
    "def train_resnet(batch_size, epoch):\n",
    "    # build model\n",
    "    net =build_resnet('resnet18')  # resnet18 resnet34\n",
    "    \n",
    "    optimizer = tf.keras.optimizers.SGD(learning_rate=0.01, momentum=0.9, decay=1e-6, nesterov=False)    \n",
    "    net.compile(optimizer=optimizer ,loss='sparse_categorical_crossentropy', metrics=['accuracy'])\n",
    "    net.fit(train_X,\n",
    "            train_Y,\n",
    "            epochs=epoch,\n",
    "            verbose=2,\n",
    "            validation_data=(X_validation,Y_validation),\n",
    "            batch_size=batch_size, \n",
    "            shuffle=True)\n",
    "    return net\n",
    "\n",
    "def train_resblock(batch_size, epoch):\n",
    "    # build model\n",
    "    net =build_resblock()\n",
    "    optimizer = tf.keras.optimizers.SGD(learning_rate=0.01, momentum=0.9, decay=1e-6, nesterov=False)    \n",
    "    net.compile(optimizer=optimizer ,loss='sparse_categorical_crossentropy', metrics=['accuracy'])\n",
    "    net.fit(train_X,\n",
    "            train_Y,\n",
    "            epochs=epoch,\n",
    "            verbose=2,\n",
    "            validation_data=(X_validation,Y_validation),\n",
    "            batch_size=batch_size, \n",
    "            shuffle=True)\n",
    "    return net\n",
    "resnet=train_resnet(64,60)\n",
    "print(resnet.summary())\n",
    "resblock=train_resblock(64,100)\n",
    "print(resblock.summary())\n",
    "\n",
    "\n",
    "#output 直接预测\n",
    "def abs_sum(y_tru, y_pre):\n",
    "    y_tru = pd.get_dummies(data=y_tru)\n",
    "    y_pre = np.array(y_pre)\n",
    "    y_tru = np.array(y_tru)\n",
    "    loss = sum(sum(abs(y_pre - y_tru)))\n",
    "    return loss\n",
    "\n",
    "\n",
    "pre3 = resnet.predict(X_validation)\n",
    "pre_block=resblock.predict(X_validation)\n",
    "pre4=pre3.copy()\n",
    "pre_block_cut=pre_block.copy()\n",
    "for i in range(len(pre4)):\n",
    "    for j in range(len(pre4[0])):\n",
    "        pre4[i][j]=int(pre4[i][j]+0.5)\n",
    "for i in range(len(pre_block)):\n",
    "    for j in range(len(pre_block[0])):\n",
    "        pre_block_cut[i][j]=int(pre_block_cut[i][j]+0.5)\n",
    "#取整\n",
    "print(abs_sum(Y_validation, pre3))\n",
    "print(abs_sum(Y_validation, pre4))\n",
    "print(abs_sum(Y_validation, pre_block))\n",
    "print(abs_sum(Y_validation, pre_block_cut))"
   ]
  },
  {
   "cell_type": "code",
   "execution_count": null,
   "metadata": {},
   "outputs": [],
   "source": [
    "w=[2/5,2/5,1/5]\n",
    "#加权融合\n",
    "merge_pre=pre.copy()\n",
    "for i in range(len(merge_pre)):\n",
    "    for j in range(len(merge_pre[0])):\n",
    "        merge_pre[i][j]=int(pre[i][j]*w[0]+pre3[i][j]*w[1]+pre_block+0.5)\n",
    "print(abs_sum(Y_validation, merge_pre))"
   ]
  },
  {
   "cell_type": "code",
   "execution_count": null,
   "metadata": {},
   "outputs": [],
   "source": [
    "#预测\n",
    "w=[1/3,1/3,1/3]\n",
    "test_feature = pd.DataFrame(test_get_feature)\n",
    "test_feature = test_feature.astype(float)\n",
    "test_X = np.array(test_feature)\n",
    "test_X = test_X.reshape(test_X.shape[0], test_X.shape[1], 1)\n",
    "pre_a1 = model.predict(test_X)\n",
    "pre_a2=resnet.predict(text_X)\n",
    "pre_a=pre_a1.copy()\n",
    "for i in range(len(pre_a)):\n",
    "    for j in range(len(pre_a1[0])):\n",
    "        pre_a[i][j]=int(pre_a1[i][j]*w[0]+pre_a2[i][j]*w[1]+0.5)\n",
    "data_test_price = pd.DataFrame(pre_a,columns = ['label_0','label_1','label_2','label_3'])\n",
    "results = pd.concat([test_data['id'],data_test_price],axis = 1)\n",
    "submit_file_z_score = r'/mnt/ML/cnn_A_final.csv'\n",
    "results.to_csv(submit_file_z_score,encoding='utf8',index=0)\n",
    "\n",
    "\n",
    "#l另一个测试集\n",
    "test_data1 = pd.read_csv(r'/mnt/ML/testB.csv')\n",
    "\n",
    "test_data1.heartbeat_signals\n",
    "\n",
    "test_get_feature1 = [k.split(',') for k in test_data1.heartbeat_signals]\n",
    "\n",
    "test_feature1 = pd.DataFrame(test_get_feature1)\n",
    "test_feature1 = test_feature1.astype(float)\n",
    "test_X1 = np.array(test_feature1)\n",
    "test_X1 = test_X1.reshape(test_X1.shape[0], test_X1.shape[1], 1)\n",
    "pre_b1 = model.predict(test_X1)\n",
    "\n",
    "pre_b1 = model.predict(test_X1)\n",
    "pre_b2=resnet.predict(text_X1)\n",
    "pre_b=pre_b1.copy()\n",
    "for i in range(len(pre_b)):\n",
    "    for j in range(len(pre_b1[0])):\n",
    "        pre_b[i][j]=int(pre_b1[i][j]*w[0]+pre_b2[i][j]*w[1]+0.5)\n",
    "data_test_price1 = pd.DataFrame(pre_b,columns = ['label_0','label_1','label_2','label_3'])\n",
    "results1 = pd.concat([test_data1['id'],data_test_price1],axis = 1)\n",
    "submit_file_z_score1 = r'/mnt/ML/cnn_B_final.csv'\n",
    "results1.to_csv(submit_file_z_score1,encoding='utf8',index=0)"
   ]
  }
 ],
 "metadata": {
  "kernelspec": {
   "display_name": "Python 3",
   "language": "python",
   "name": "python3"
  },
  "language_info": {
   "codemirror_mode": {
    "name": "ipython",
    "version": 3
   },
   "file_extension": ".py",
   "mimetype": "text/x-python",
   "name": "python",
   "nbconvert_exporter": "python",
   "pygments_lexer": "ipython3",
   "version": "3.7.6"
  }
 },
 "nbformat": 4,
 "nbformat_minor": 4
}
